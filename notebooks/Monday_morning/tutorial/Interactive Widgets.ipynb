{
 "cells": [
  {
   "cell_type": "markdown",
   "metadata": {},
   "source": [
    "# Interactive Widgets in IJulia"
   ]
  },
  {
   "cell_type": "markdown",
   "metadata": {},
   "source": [
    "IPython 2.0 introduced interactive widgets, which are basically:\n",
    "\n",
    "* Javascript widgets (sliders, buttons, etcetera)\n",
    "* A communications protocol for the widgets to talk to the kernel\n",
    "* A Python interface to create and manipulate these.\n",
    "\n",
    "Thanks to fantastic work by a Google Summer of Code student, [Shashi Gowda](https://github.com/shashi/), the same features are accessible from a Julia interface."
   ]
  },
  {
   "cell_type": "code",
   "execution_count": 14,
   "metadata": {
    "collapsed": false
   },
   "outputs": [],
   "source": [
    "using Interact"
   ]
  },
  {
   "cell_type": "code",
   "execution_count": 15,
   "metadata": {
    "collapsed": false
   },
   "outputs": [
    {
     "data": {
      "text/html": [],
      "text/plain": [
       "Interact.Slider{Int64}(Signal{Int64}(50, nactions=0),\"n\",50,1:100,true)"
      ]
     },
     "metadata": {},
     "output_type": "display_data"
    },
    {
     "data": {
      "text/plain": [
       "50x50 Array{Float64,2}:\n",
       " 0.501668   0.961004   0.899813   …  0.730508   0.946004   0.477705 \n",
       " 0.608001   0.34603    0.801553      0.0808169  0.330757   0.301344 \n",
       " 0.773139   0.959542   0.213382      0.815184   0.827826   0.324143 \n",
       " 0.528552   0.76951    0.0908327     0.579164   0.275614   0.340728 \n",
       " 0.794789   0.0437679  0.175442      0.975927   0.3571     0.166081 \n",
       " 0.440774   0.789388   0.861329   …  0.917058   0.894555   0.0332871\n",
       " 0.0940166  0.452508   0.0593984     0.81979    0.421014   0.371631 \n",
       " 0.667055   0.812151   0.745303      0.728242   0.828202   0.497073 \n",
       " 0.824033   0.203234   0.407185      0.0989066  0.719616   0.506734 \n",
       " 0.619319   0.627517   0.420258      0.1753     0.919126   0.268644 \n",
       " 0.83419    0.99327    0.756658   …  0.678909   0.47058    0.713217 \n",
       " 0.76348    0.533347   0.288293      0.803133   0.917137   0.725788 \n",
       " 0.934393   0.978297   0.160187      0.0616202  0.041517   0.369126 \n",
       " ⋮                                ⋱                                 \n",
       " 0.145533   0.625954   0.362489      0.434982   0.0816314  0.0810498\n",
       " 0.0970179  0.569907   0.448573      0.90557    0.587651   0.694741 \n",
       " 0.821105   0.32241    0.158655   …  0.453152   0.837449   0.280729 \n",
       " 0.891382   0.839466   0.139149      0.727081   0.887119   0.415319 \n",
       " 0.0942546  0.568417   0.217486      0.63985    0.386573   0.768544 \n",
       " 0.635281   0.46072    0.388903      0.957703   0.751332   0.642006 \n",
       " 0.663119   0.721448   0.913932      0.48942    0.471482   0.17948  \n",
       " 0.729041   0.185357   0.150235   …  0.226286   0.569725   0.124995 \n",
       " 0.662387   0.130925   0.247205      0.997638   0.837876   0.446211 \n",
       " 0.974439   0.843242   0.0630494     0.673927   0.333796   0.880138 \n",
       " 0.565351   0.452214   0.827076      0.329847   0.0991791  0.994297 \n",
       " 0.695849   0.13846    0.091685      0.0353063  0.369003   0.901497 "
      ]
     },
     "execution_count": 15,
     "metadata": {
      "comm_id": "f9488656-a819-456d-93a0-5d85796c4f6a",
      "reactive": true
     },
     "output_type": "execute_result"
    }
   ],
   "source": [
    "@manipulate for n in 1:100\n",
    "    rand(n,n)\n",
    "end"
   ]
  },
  {
   "cell_type": "code",
   "execution_count": 16,
   "metadata": {
    "collapsed": false
   },
   "outputs": [
    {
     "data": {
      "text/html": [],
      "text/plain": [
       "Interact.Slider{Float64}(Signal{Float64}(0.5, nactions=0),\"r\",0.5,0.0:0.1:1.0,true)"
      ]
     },
     "metadata": {},
     "output_type": "display_data"
    },
    {
     "data": {
      "text/html": [],
      "text/plain": [
       "Interact.Slider{Float64}(Signal{Float64}(0.5, nactions=0),\"g\",0.5,0.0:0.1:1.0,true)"
      ]
     },
     "metadata": {},
     "output_type": "display_data"
    },
    {
     "data": {
      "text/html": [],
      "text/plain": [
       "Interact.Slider{Float64}(Signal{Float64}(0.5, nactions=0),\"b\",0.5,0.0:0.1:1.0,true)"
      ]
     },
     "metadata": {},
     "output_type": "display_data"
    },
    {
     "data": {
      "text/html": [],
      "text/plain": [
       "Interact.Slider{Int64}(Signal{Int64}(50, nactions=0),\"n\",50,1:100,true)"
      ]
     },
     "metadata": {},
     "output_type": "display_data"
    },
    {
     "data": {
      "image/svg+xml": [
       "<?xml version=\"1.0\" encoding=\"UTF-8\"?>\n",
       "<!DOCTYPE svg PUBLIC \"-//W3C//DTD SVG 1.1//EN\"\n",
       " \"http://www.w3.org/Graphics/SVG/1.1/DTD/svg11.dtd\">\n",
       "<svg xmlns=\"http://www.w3.org/2000/svg\" version=\"1.1\"\n",
       "     width=\"250.0mm\" height=\"25.0mm\"\n",
       "     shape-rendering=\"crispEdges\">\n",
       "<rect x=\"0.0mm\" y=\"0.0mm\"\n",
       "      width=\"4.0mm\" height=\"25.0mm\"\n",
       "      fill=\"#000000\" stroke=\"none\" />\n",
       "<rect x=\"5.0mm\" y=\"0.0mm\"\n",
       "      width=\"4.0mm\" height=\"25.0mm\"\n",
       "      fill=\"#030303\" stroke=\"none\" />\n",
       "<rect x=\"10.0mm\" y=\"0.0mm\"\n",
       "      width=\"4.0mm\" height=\"25.0mm\"\n",
       "      fill=\"#050505\" stroke=\"none\" />\n",
       "<rect x=\"15.0mm\" y=\"0.0mm\"\n",
       "      width=\"4.0mm\" height=\"25.0mm\"\n",
       "      fill=\"#080808\" stroke=\"none\" />\n",
       "<rect x=\"20.0mm\" y=\"0.0mm\"\n",
       "      width=\"4.0mm\" height=\"25.0mm\"\n",
       "      fill=\"#0A0A0A\" stroke=\"none\" />\n",
       "<rect x=\"25.0mm\" y=\"0.0mm\"\n",
       "      width=\"4.0mm\" height=\"25.0mm\"\n",
       "      fill=\"#0D0D0D\" stroke=\"none\" />\n",
       "<rect x=\"30.0mm\" y=\"0.0mm\"\n",
       "      width=\"4.0mm\" height=\"25.0mm\"\n",
       "      fill=\"#101010\" stroke=\"none\" />\n",
       "<rect x=\"35.0mm\" y=\"0.0mm\"\n",
       "      width=\"4.0mm\" height=\"25.0mm\"\n",
       "      fill=\"#121212\" stroke=\"none\" />\n",
       "<rect x=\"40.0mm\" y=\"0.0mm\"\n",
       "      width=\"4.0mm\" height=\"25.0mm\"\n",
       "      fill=\"#151515\" stroke=\"none\" />\n",
       "<rect x=\"45.0mm\" y=\"0.0mm\"\n",
       "      width=\"4.0mm\" height=\"25.0mm\"\n",
       "      fill=\"#171717\" stroke=\"none\" />\n",
       "<rect x=\"50.0mm\" y=\"0.0mm\"\n",
       "      width=\"4.0mm\" height=\"25.0mm\"\n",
       "      fill=\"#1A1A1A\" stroke=\"none\" />\n",
       "<rect x=\"55.0mm\" y=\"0.0mm\"\n",
       "      width=\"4.0mm\" height=\"25.0mm\"\n",
       "      fill=\"#1D1D1D\" stroke=\"none\" />\n",
       "<rect x=\"60.0mm\" y=\"0.0mm\"\n",
       "      width=\"4.0mm\" height=\"25.0mm\"\n",
       "      fill=\"#1F1F1F\" stroke=\"none\" />\n",
       "<rect x=\"65.0mm\" y=\"0.0mm\"\n",
       "      width=\"4.0mm\" height=\"25.0mm\"\n",
       "      fill=\"#222222\" stroke=\"none\" />\n",
       "<rect x=\"70.0mm\" y=\"0.0mm\"\n",
       "      width=\"4.0mm\" height=\"25.0mm\"\n",
       "      fill=\"#242424\" stroke=\"none\" />\n",
       "<rect x=\"75.0mm\" y=\"0.0mm\"\n",
       "      width=\"4.0mm\" height=\"25.0mm\"\n",
       "      fill=\"#272727\" stroke=\"none\" />\n",
       "<rect x=\"80.0mm\" y=\"0.0mm\"\n",
       "      width=\"4.0mm\" height=\"25.0mm\"\n",
       "      fill=\"#2A2A2A\" stroke=\"none\" />\n",
       "<rect x=\"85.0mm\" y=\"0.0mm\"\n",
       "      width=\"4.0mm\" height=\"25.0mm\"\n",
       "      fill=\"#2C2C2C\" stroke=\"none\" />\n",
       "<rect x=\"90.0mm\" y=\"0.0mm\"\n",
       "      width=\"4.0mm\" height=\"25.0mm\"\n",
       "      fill=\"#2F2F2F\" stroke=\"none\" />\n",
       "<rect x=\"95.0mm\" y=\"0.0mm\"\n",
       "      width=\"4.0mm\" height=\"25.0mm\"\n",
       "      fill=\"#313131\" stroke=\"none\" />\n",
       "<rect x=\"100.0mm\" y=\"0.0mm\"\n",
       "      width=\"4.0mm\" height=\"25.0mm\"\n",
       "      fill=\"#343434\" stroke=\"none\" />\n",
       "<rect x=\"105.0mm\" y=\"0.0mm\"\n",
       "      width=\"4.0mm\" height=\"25.0mm\"\n",
       "      fill=\"#373737\" stroke=\"none\" />\n",
       "<rect x=\"110.0mm\" y=\"0.0mm\"\n",
       "      width=\"4.0mm\" height=\"25.0mm\"\n",
       "      fill=\"#393939\" stroke=\"none\" />\n",
       "<rect x=\"115.0mm\" y=\"0.0mm\"\n",
       "      width=\"4.0mm\" height=\"25.0mm\"\n",
       "      fill=\"#3C3C3C\" stroke=\"none\" />\n",
       "<rect x=\"120.0mm\" y=\"0.0mm\"\n",
       "      width=\"4.0mm\" height=\"25.0mm\"\n",
       "      fill=\"#3E3E3E\" stroke=\"none\" />\n",
       "<rect x=\"125.0mm\" y=\"0.0mm\"\n",
       "      width=\"4.0mm\" height=\"25.0mm\"\n",
       "      fill=\"#414141\" stroke=\"none\" />\n",
       "<rect x=\"130.0mm\" y=\"0.0mm\"\n",
       "      width=\"4.0mm\" height=\"25.0mm\"\n",
       "      fill=\"#444444\" stroke=\"none\" />\n",
       "<rect x=\"135.0mm\" y=\"0.0mm\"\n",
       "      width=\"4.0mm\" height=\"25.0mm\"\n",
       "      fill=\"#464646\" stroke=\"none\" />\n",
       "<rect x=\"140.0mm\" y=\"0.0mm\"\n",
       "      width=\"4.0mm\" height=\"25.0mm\"\n",
       "      fill=\"#494949\" stroke=\"none\" />\n",
       "<rect x=\"145.0mm\" y=\"0.0mm\"\n",
       "      width=\"4.0mm\" height=\"25.0mm\"\n",
       "      fill=\"#4B4B4B\" stroke=\"none\" />\n",
       "<rect x=\"150.0mm\" y=\"0.0mm\"\n",
       "      width=\"4.0mm\" height=\"25.0mm\"\n",
       "      fill=\"#4E4E4E\" stroke=\"none\" />\n",
       "<rect x=\"155.0mm\" y=\"0.0mm\"\n",
       "      width=\"4.0mm\" height=\"25.0mm\"\n",
       "      fill=\"#515151\" stroke=\"none\" />\n",
       "<rect x=\"160.0mm\" y=\"0.0mm\"\n",
       "      width=\"4.0mm\" height=\"25.0mm\"\n",
       "      fill=\"#535353\" stroke=\"none\" />\n",
       "<rect x=\"165.0mm\" y=\"0.0mm\"\n",
       "      width=\"4.0mm\" height=\"25.0mm\"\n",
       "      fill=\"#565656\" stroke=\"none\" />\n",
       "<rect x=\"170.0mm\" y=\"0.0mm\"\n",
       "      width=\"4.0mm\" height=\"25.0mm\"\n",
       "      fill=\"#585858\" stroke=\"none\" />\n",
       "<rect x=\"175.0mm\" y=\"0.0mm\"\n",
       "      width=\"4.0mm\" height=\"25.0mm\"\n",
       "      fill=\"#5B5B5B\" stroke=\"none\" />\n",
       "<rect x=\"180.0mm\" y=\"0.0mm\"\n",
       "      width=\"4.0mm\" height=\"25.0mm\"\n",
       "      fill=\"#5E5E5E\" stroke=\"none\" />\n",
       "<rect x=\"185.0mm\" y=\"0.0mm\"\n",
       "      width=\"4.0mm\" height=\"25.0mm\"\n",
       "      fill=\"#606060\" stroke=\"none\" />\n",
       "<rect x=\"190.0mm\" y=\"0.0mm\"\n",
       "      width=\"4.0mm\" height=\"25.0mm\"\n",
       "      fill=\"#636363\" stroke=\"none\" />\n",
       "<rect x=\"195.0mm\" y=\"0.0mm\"\n",
       "      width=\"4.0mm\" height=\"25.0mm\"\n",
       "      fill=\"#656565\" stroke=\"none\" />\n",
       "<rect x=\"200.0mm\" y=\"0.0mm\"\n",
       "      width=\"4.0mm\" height=\"25.0mm\"\n",
       "      fill=\"#686868\" stroke=\"none\" />\n",
       "<rect x=\"205.0mm\" y=\"0.0mm\"\n",
       "      width=\"4.0mm\" height=\"25.0mm\"\n",
       "      fill=\"#6B6B6B\" stroke=\"none\" />\n",
       "<rect x=\"210.0mm\" y=\"0.0mm\"\n",
       "      width=\"4.0mm\" height=\"25.0mm\"\n",
       "      fill=\"#6D6D6D\" stroke=\"none\" />\n",
       "<rect x=\"215.0mm\" y=\"0.0mm\"\n",
       "      width=\"4.0mm\" height=\"25.0mm\"\n",
       "      fill=\"#707070\" stroke=\"none\" />\n",
       "<rect x=\"220.0mm\" y=\"0.0mm\"\n",
       "      width=\"4.0mm\" height=\"25.0mm\"\n",
       "      fill=\"#727272\" stroke=\"none\" />\n",
       "<rect x=\"225.0mm\" y=\"0.0mm\"\n",
       "      width=\"4.0mm\" height=\"25.0mm\"\n",
       "      fill=\"#757575\" stroke=\"none\" />\n",
       "<rect x=\"230.0mm\" y=\"0.0mm\"\n",
       "      width=\"4.0mm\" height=\"25.0mm\"\n",
       "      fill=\"#787878\" stroke=\"none\" />\n",
       "<rect x=\"235.0mm\" y=\"0.0mm\"\n",
       "      width=\"4.0mm\" height=\"25.0mm\"\n",
       "      fill=\"#7A7A7A\" stroke=\"none\" />\n",
       "<rect x=\"240.0mm\" y=\"0.0mm\"\n",
       "      width=\"4.0mm\" height=\"25.0mm\"\n",
       "      fill=\"#7D7D7D\" stroke=\"none\" />\n",
       "<rect x=\"245.0mm\" y=\"0.0mm\"\n",
       "      width=\"4.0mm\" height=\"25.0mm\"\n",
       "      fill=\"#808080\" stroke=\"none\" />\n",
       "</svg>"
      ],
      "text/plain": [
       "50-element Array{ColorTypes.RGB{Float64},1}:\n",
       " RGB{Float64}(0.0,0.0,0.0)                  \n",
       " RGB{Float64}(0.0102041,0.0102041,0.0102041)\n",
       " RGB{Float64}(0.0204082,0.0204082,0.0204082)\n",
       " RGB{Float64}(0.0306122,0.0306122,0.0306122)\n",
       " RGB{Float64}(0.0408163,0.0408163,0.0408163)\n",
       " RGB{Float64}(0.0510204,0.0510204,0.0510204)\n",
       " RGB{Float64}(0.0612245,0.0612245,0.0612245)\n",
       " RGB{Float64}(0.0714286,0.0714286,0.0714286)\n",
       " RGB{Float64}(0.0816327,0.0816327,0.0816327)\n",
       " RGB{Float64}(0.0918367,0.0918367,0.0918367)\n",
       " RGB{Float64}(0.102041,0.102041,0.102041)   \n",
       " RGB{Float64}(0.112245,0.112245,0.112245)   \n",
       " RGB{Float64}(0.122449,0.122449,0.122449)   \n",
       " ⋮                                          \n",
       " RGB{Float64}(0.387755,0.387755,0.387755)   \n",
       " RGB{Float64}(0.397959,0.397959,0.397959)   \n",
       " RGB{Float64}(0.408163,0.408163,0.408163)   \n",
       " RGB{Float64}(0.418367,0.418367,0.418367)   \n",
       " RGB{Float64}(0.428571,0.428571,0.428571)   \n",
       " RGB{Float64}(0.438776,0.438776,0.438776)   \n",
       " RGB{Float64}(0.44898,0.44898,0.44898)      \n",
       " RGB{Float64}(0.459184,0.459184,0.459184)   \n",
       " RGB{Float64}(0.469388,0.469388,0.469388)   \n",
       " RGB{Float64}(0.479592,0.479592,0.479592)   \n",
       " RGB{Float64}(0.489796,0.489796,0.489796)   \n",
       " RGB{Float64}(0.5,0.5,0.5)                  "
      ]
     },
     "execution_count": 16,
     "metadata": {
      "comm_id": "939b80f6-b73e-4dd0-8fd2-92bbdc010cc8",
      "reactive": true
     },
     "output_type": "execute_result"
    }
   ],
   "source": [
    "using Colors\n",
    "@manipulate for r in 0:0.1:1, g in 0:0.1:1, b in 0:0.1:1, n in 1:100\n",
    "    linspace(RGB(0.0,0.0,0.0), RGB(r,g,b), n)\n",
    "end"
   ]
  },
  {
   "cell_type": "code",
   "execution_count": 17,
   "metadata": {
    "collapsed": false
   },
   "outputs": [],
   "source": [
    "using PyPlot"
   ]
  },
  {
   "cell_type": "code",
   "execution_count": 18,
   "metadata": {
    "collapsed": false
   },
   "outputs": [
    {
     "data": {
      "text/html": [],
      "text/plain": [
       "Interact.Slider{Float64}(Signal{Float64}(2.5, nactions=0),\"α\",2.5,1.0:0.1:4.0,true)"
      ]
     },
     "metadata": {},
     "output_type": "display_data"
    },
    {
     "data": {
      "text/html": [],
      "text/plain": [
       "Interact.Slider{Float64}(Signal{Float64}(2.5, nactions=0),\"β\",2.5,1.0:0.1:4.0,true)"
      ]
     },
     "metadata": {},
     "output_type": "display_data"
    },
    {
     "data": {
      "text/html": [],
      "text/plain": [
       "Interact.Textbox{AbstractString}(Signal{AbstractString}(a funny plot, nactions=0),\"leg\",nothing,\"a funny plot\")"
      ]
     },
     "metadata": {},
     "output_type": "display_data"
    },
    {
     "data": {
      "text/plain": [
       "PyPlot.Figure(PyObject <matplotlib.figure.Figure object at 0x7f1b6c420198>)"
      ]
     },
     "metadata": {},
     "output_type": "display_data"
    },
    {
     "data": {
      "image/png": "[encoded data removed]",
      "text/plain": [
       "PyPlot.Figure(PyObject <matplotlib.figure.Figure object at 0x7f1b6c39e748>)"
      ]
     },
     "execution_count": 18,
     "metadata": {
      "comm_id": "274bc582-c978-45c5-9244-8a0f8071191a",
      "reactive": true
     },
     "output_type": "execute_result"
    }
   ],
   "source": [
    "x = linspace(0,10,1000)\n",
    "clf()\n",
    "f = figure()\n",
    "@manipulate for α = 1:0.1:4, β = 1:0.1:4, leg=\"a funny plot\"\n",
    "    withfig(f) do\n",
    "        plot(x, cos(α*x + sin(β*x)))\n",
    "        legend([leg])\n",
    "    end\n",
    "end"
   ]
  },
  {
   "cell_type": "code",
   "execution_count": null,
   "metadata": {
    "collapsed": true
   },
   "outputs": [],
   "source": []
  }
 ],
 "metadata": {
  "kernelspec": {
   "display_name": "Julia 0.4.5",
   "language": "julia",
   "name": "julia-0.4"
  },
  "language": "Julia",
  "language_info": {
   "file_extension": ".jl",
   "mimetype": "application/julia",
   "name": "julia",
   "version": "0.4.5"
  }
 },
 "nbformat": 4,
 "nbformat_minor": 1
}
