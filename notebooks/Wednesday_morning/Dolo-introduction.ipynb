{
 "cells": [
  {
   "cell_type": "markdown",
   "metadata": {
    "collapsed": true
   },
   "source": [
    "# Introduction to Dolo"
   ]
  },
  {
   "cell_type": "markdown",
   "metadata": {},
   "source": [
    "# Part 0: check setup\n",
    "\n",
    "Dolo needs a working Python 3.5 environment which be downloaded from https://www.continuum.io/downloads.\n",
    "\n",
    "Install [ruamel.yaml](https://anaconda.org/conda-forge/ruamel.yaml), [Slycot](https://anaconda.org/cwrowley/slycot) (linux, mac only) with conda:\n",
    "\n",
    "- `conda install -c conda-forge ruamel.yaml=0.11.11`\n",
    "- `conda install -c cwrowley slycot=0.2.0`\n",
    "\n",
    "Install dolo with pip:\n",
    "\n",
    "- `pip install dolo`\n",
    "\n",
    "Trick: to uninstall a previous version of Dolo installed with `pip`, run *twice*: `pip uninstall dolo`.\n",
    "\n",
    "Check that everything is in order:"
   ]
  },
  {
   "cell_type": "code",
   "execution_count": 2,
   "metadata": {
    "collapsed": false
   },
   "outputs": [
    {
     "name": "stdout",
     "output_type": "stream",
     "text": [
      "\u001b[33mwarning\u001b[0m: 32, 1 : Symbol e_z has no calibrated value.\n"
     ]
    },
    {
     "data": {
      "text/plain": [
       "<interpolation.splines.splines.CubicSplines at 0x7f3a0eebf7b8>"
      ]
     },
     "execution_count": 2,
     "metadata": {},
     "output_type": "execute_result"
    }
   ],
   "source": [
    "from dolo import yaml_import, time_iteration\n",
    "model = yaml_import('https://raw.githubusercontent.com/EconForge/dolo/master/examples/models/rbc.yaml')\n",
    "time_iteration(model)"
   ]
  },
  {
   "cell_type": "markdown",
   "metadata": {},
   "source": [
    "Check current directory:\n",
    "\n",
    "Use `pwd`"
   ]
  },
  {
   "cell_type": "code",
   "execution_count": 4,
   "metadata": {
    "collapsed": false
   },
   "outputs": [
    {
     "data": {
      "text/plain": [
       "'/home/pablo/Programming/chicago'"
      ]
     },
     "execution_count": 4,
     "metadata": {},
     "output_type": "execute_result"
    }
   ],
   "source": []
  },
  {
   "cell_type": "markdown",
   "metadata": {},
   "source": [
    "Change to the directory containing the notebook and the model files. Copy distant RBC model there and import it.\n",
    "\n",
    "Use `cd`, `groot`"
   ]
  },
  {
   "cell_type": "markdown",
   "metadata": {},
   "source": [
    "# Part 1: simple monetary rules and zero lower bound"
   ]
  },
  {
   "cell_type": "markdown",
   "metadata": {
    "collapsed": true
   },
   "source": [
    "This part is inspired by the [paper](https://www.ecb.europa.eu/pub/pdf/scpwps/ecbwp377.pdf?374d600f5c7511c6f962e8480cd95a37): *Optimal Monetary Policy Under Commitment with a Zero Bound on Nominal Interest Rages* from Adam and Bili\n",
    "\n",
    "Objective : replicate the model with simple rules.\n",
    "\n",
    "The model is defined by the following equations:\n",
    "\n",
    "$$\\pi_{t} = \\beta \\; \\pi_{t+1} + \\lambda \\; y_{t} + u_{t}$$\n",
    "$$y_{t} = y_{t+1} - \\phi \\; \\left(i_{t} - \\pi_{t+1}\\right) + g_{t}$$\n",
    "$$u_{t} = \\rho_{u} \\; u_{t-1} + \\epsilon_{u,t}$$\n",
    "$$g_{t} = \\rho_{g} \\; g_{t-1} + \\epsilon_{g,t}$$\n",
    "\n",
    "We will try to solve the model under the assumption that the nominal interest rate is set by a truncated Taylor Rule: \n",
    "\n",
    "$$i_t = \\max(0, c_y \\; y_t + c_{\\pi} \\; \\pi_t )$$\n",
    "\n",
    "We will use the `RBC` calibration from the paper:\n",
    "\n",
    "$  \\beta = 0.9913 $, $  r^{\\star} =1/\\beta-1 $, $  \\alpha = 0.007 $, $  \\lambda = 0.057 $, $  \\phi = 1.00 $,\n",
    "$  \\rho_u = 0.36 $, $  \\rho_g = 0.8 $, $  \\sigma_u = 0.00171 $, $  \\sigma_g = 0.00294 $\n",
    "\n",
    "As for the Taylor Rule, as a starting point: $ c_{\\pi}=1.5$, $c_y = 0.5$"
   ]
  },
  {
   "cell_type": "markdown",
   "metadata": {},
   "source": [
    "## Question 1: preliminary steps\n",
    "\n",
    "Answer the following questions:\n",
    "\n",
    "- which model type will be used ?\n",
    "- which are the states ? the controls ? the exogenous shocks ? the parameters ?\n",
    "\n",
    "Which algorithms can be used to solve:\n",
    "\n",
    "- the non-constrained problem\n",
    "- the constrained one ?"
   ]
  },
  {
   "cell_type": "code",
   "execution_count": null,
   "metadata": {
    "collapsed": true
   },
   "outputs": [],
   "source": []
  },
  {
   "cell_type": "markdown",
   "metadata": {},
   "source": [
    "## Question 2: write the model file\n",
    "\n",
    "Write in that order:\n",
    "\n",
    "- symbols\n",
    "- equations\n",
    "- calibration\n",
    "- options:\n",
    "    - distribution of shocks\n",
    "    - (approximation grid)\n",
    "\n",
    "Import and check that everything is OK.\n",
    "\n",
    "Use: `yaml_import`."
   ]
  },
  {
   "cell_type": "code",
   "execution_count": 1,
   "metadata": {
    "collapsed": false
   },
   "outputs": [
    {
     "data": {
      "text/html": [
       "\n",
       "     <table>\n",
       "         <td><b>Model</b></td>\n",
       "     <tr>\n",
       "        <td>name</td>\n",
       "        <td>Zero Lower Bound</td>\n",
       "      </tr>\n",
       "    <tr>\n",
       "        <td>type</td>\n",
       "        <td>dtcscc</td>\n",
       "      </tr>\n",
       "      <tr>\n",
       "        <td>filename</td>\n",
       "        <td>zlb.yaml</td>\n",
       "      </tr>\n",
       "    </table><table><tr><td><b>Type</b></td><td><b>Equation</b></td><td><b>Residual</b></td></tr>\n",
       "<tr><td>arbitrage</td><td>$\\pi_{t} = \\beta \\; \\pi_{t+1} + \\lambda \\; y_{t} + u_{t}$</td><td>0.000</td></tr>\n",
       "<tr><td></td><td>$y_{t} = y_{t+1} - \\phi \\; \\left(i_{t} - \\pi_{t+1}\\right) + g_{t}$</td><td>0.000</td></tr>\n",
       "<tr><td></td><td>$i_{t} - \\left(c_{\\pi} \\; \\pi_{t} + c_{y} \\; y_{t}\\right)$</td><td>0.000</td></tr><tr><td>transition</td><td>$u_{t} = \\rho_{u} \\; u_{t-1} + \\epsilon_{u,t}$</td><td>0.000</td></tr>\n",
       "<tr><td></td><td>$g_{t} = \\rho_{g} \\; g_{t-1} + \\epsilon_{g,t}$</td><td>0.000</td></tr></table>"
      ],
      "text/plain": [
       "\n",
       "Model:\n",
       "------\n",
       "name: \"Zero Lower Bound\"\n",
       "type: \"dtcscc\"\n",
       "file: \"zlb.yaml\n",
       "\n",
       "Equations:\n",
       "----------\n",
       "\n",
       "transition\n",
       " 1  : 0.0000 : u = rho_u*u(-1) + epsilon_u\n",
       " 2  : 0.0000 : g = rho_g*g(-1) + epsilon_g\n",
       "\n",
       "arbitrage\n",
       " 1  : 0.0000 : pi = beta*pi(1) + lam*y + u\n",
       " 2  : 0.0000 : y = y(1) - phi*(i - pi(1)) + g\n",
       " 3  : 0.0000 : i - (c_pi*pi + c_y*y )                 |   -rstar<=i<=inf\n"
      ]
     },
     "execution_count": 1,
     "metadata": {},
     "output_type": "execute_result"
    }
   ],
   "source": [
    "from dolo import *\n",
    "model = yaml_import('zlb.yaml')  # there should be no warning/error\n",
    "model"
   ]
  },
  {
   "cell_type": "markdown",
   "metadata": {
    "collapsed": false
   },
   "source": [
    "## Question 3: first order solution\n",
    "\n",
    "- produce a first order approximation\n",
    "- optional:\n",
    "    - inspect IRFS\n",
    "    - simulate and check how often constraint is hit\n",
    "    - change value of `c_pi` and verify Taylor principle\n",
    "    \n",
    "Use: `approximate_controls`, `simulate`, `plot_irfs`, `model.calibration`  and `model.set_calibration`"
   ]
  },
  {
   "cell_type": "code",
   "execution_count": null,
   "metadata": {
    "collapsed": true
   },
   "outputs": [],
   "source": []
  },
  {
   "cell_type": "markdown",
   "metadata": {},
   "source": [
    "## Question 4: constrained perfect solution\n",
    "\n",
    "- reformulate the constraint as a complementarity condition\n",
    "- compute a perfect foresight solution for an initial shock on $\\epsilon_u$ and $\\epsilon_g$\n",
    "    - optional: what happens if shock happens in period $t=2$ rather than $t=0$ ?\n",
    "    \n",
    "Use: `deterministic_solve`, `plot_irfs`"
   ]
  },
  {
   "cell_type": "code",
   "execution_count": null,
   "metadata": {
    "collapsed": true
   },
   "outputs": [],
   "source": []
  },
  {
   "cell_type": "markdown",
   "metadata": {},
   "source": [
    "## Question 5: global solution\n",
    "\n",
    "- define approximation space (ex: two times ergodic variance)\n",
    "- solve the model with time iteration\n",
    "- (optional): remark that controls can solved in closed form as a function of expectations. Use that fact to produce a faster solution.\n",
    "\n",
    "Use: `model.options`(inspect), `time_iteration`, `time_iteration_direct`"
   ]
  },
  {
   "cell_type": "markdown",
   "metadata": {},
   "source": [
    "# Part 2: add a catastrophic shock to the RBC model"
   ]
  },
  {
   "cell_type": "markdown",
   "metadata": {},
   "source": [
    "There is an implementation of the RBC model which uses a Markov Chain for exogenous shocks. It is included in the examples as `rbc_dtmscc.yaml`. \n",
    "\n",
    "\n",
    "In the orginal implementation, the law of motion for the capital is:\n",
    "\n",
    "  $$k_t = (1-\\delta)k_{t-1} + i_{t-1}$$\n",
    "\n",
    "The productivity process depends on an AR1:\n",
    "\n",
    "  $$z_t = \\rho z_{t-1} + \\epsilon_{z,t}$$\n",
    "\n",
    "and is given by:\n",
    "\n",
    "  $$A_t = \\exp(z_t)$$\n",
    "  \n",
    "The goal of this exercise is to add a catastrophic event to the model. This is done by defining two additional Markov states $x_t$ and $y_t$ defined as follows:\n",
    "\n",
    "- $x_t$ is equal to 1 in the first period the disaster hits the economy\n",
    "- $y_t$ is equal to 1 as long as the economy has not recovered (probability $p$ of staying in the disaster state)\n",
    "  \n",
    "When there is no disaster ($x_t=y_t=0$) there is a probability $u=3\\%$ that a disaster happens next period.\n",
    "\n",
    "Given the parameters $c_k=30\\%$ and  $c_z = 1 - \\left( 1- c_k \\right)^{1-\\alpha}$ the equations are amended as follows:\n",
    "\n",
    "$$k_t = (1-\\delta)k_{t-1}*(1-c_k x_t)+ i_{t-1}$$\n",
    "\n",
    "$$A_t = \\exp(z_t)*(1-c_z y_t)$$\n",
    "\n",
    "Save `rbc_dtmscc.yaml` as `rbc_disaster.yaml` and add the above modifications. Solve and simulate the new version.\n",
    "\n",
    "Use `time_iteration`, `plot_decision_rule`, `simulate`\n"
   ]
  },
  {
   "cell_type": "code",
   "execution_count": null,
   "metadata": {
    "collapsed": false
   },
   "outputs": [],
   "source": []
  }
 ],
 "metadata": {
  "kernelspec": {
   "display_name": "Python 3",
   "language": "python",
   "name": "python3"
  },
  "language_info": {
   "codemirror_mode": {
    "name": "ipython",
    "version": 3
   },
   "file_extension": ".py",
   "mimetype": "text/x-python",
   "name": "python",
   "nbconvert_exporter": "python",
   "pygments_lexer": "ipython3",
   "version": "3.5.1"
  },
  "widgets": {
   "state": {},
   "version": "1.1.1"
  }
 },
 "nbformat": 4,
 "nbformat_minor": 1
}
