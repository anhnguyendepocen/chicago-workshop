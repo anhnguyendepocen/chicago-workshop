{
 "cells": [
  {
   "cell_type": "markdown",
   "metadata": {},
   "source": [
    "# A Simple Growth Model\n",
    "\n",
    "For a more thorough discussion of this model, please refer to the [QuantEcon lecture](http://quant-econ.net/jl/optgrowth.html). We choose to present this model because it is one that most people have seen which will allow us to focus on the programming material rather than the economics (though there are interesting economics in here as well)."
   ]
  },
  {
   "cell_type": "code",
   "execution_count": 1,
   "metadata": {
    "collapsed": false
   },
   "outputs": [],
   "source": [
    "using Interpolations\n",
    "using Optim\n"
   ]
  },
  {
   "cell_type": "markdown",
   "metadata": {},
   "source": [
    "## The Model\n",
    "\n",
    "There is a single agent who values consumption according to:\n",
    "\n",
    "$$\\sum_{t=0}^{\\infty} \\beta^t u(c_t)$$\n",
    "\n",
    "The agent produces the consumption good using period $t$ capital goods, $k_t$. His production follows $y_t = f(k_t)$. For the sake of simplicity, assume 100 percent depreciation so we have $k_{t+1} = y_t - c_t$. The corresponding Bellman equation is\n",
    "\n",
    "$$V(k_t) = \\max_{c_t} u(c_t) + \\beta V(f(k_t) - c_t)$$\n",
    "\n",
    "It turns out that if\n",
    "\n",
    "$$f(k_t) = k_t^\\alpha$$\n",
    "\n",
    "and\n",
    "\n",
    "$$u(c_t) = \\log(c_t)$$\n",
    "\n",
    "then we can write the value function in closed form by\n",
    "\n",
    "$$V(k_t) = c_1 + c_2 \\log (k_t)$$\n",
    "\n",
    "with\n",
    "\n",
    "$$c_1 = \\frac{\\log(1 - \\alpha \\beta)}{1 - \\beta} + \\frac{\\log(\\alpha \\beta) \\alpha \\beta}{(1-\\alpha \\beta) (1 - \\beta)}$$\n",
    "\n",
    "and\n",
    "\n",
    "$$c_2 = \\frac{\\alpha}{1 - \\alpha \\beta}$$"
   ]
  },
  {
   "cell_type": "code",
   "execution_count": 2,
   "metadata": {
    "collapsed": false
   },
   "outputs": [
    {
     "data": {
      "text/plain": [
       "GrowthModel"
      ]
     },
     "execution_count": 2,
     "metadata": {},
     "output_type": "execute_result"
    }
   ],
   "source": [
    "type GrowthModel\n",
    "    # Parameters\n",
    "    α::Float64\n",
    "    β::Float64\n",
    "\n",
    "    # Grid on capital\n",
    "    kgrid::LinSpace\n",
    "end\n",
    "\n",
    "function GrowthModel(α=0.65, β=0.95, kmin=1e-2, kmax=2.0, nk=150)\n",
    "    kgrid = linspace(kmin, kmax, nk)\n",
    "    return GrowthModel(α, β, kgrid)\n",
    "end"
   ]
  },
  {
   "cell_type": "code",
   "execution_count": 3,
   "metadata": {
    "collapsed": false
   },
   "outputs": [
    {
     "data": {
      "text/plain": [
       "closed_form_value_function (generic function with 1 method)"
      ]
     },
     "execution_count": 3,
     "metadata": {},
     "output_type": "execute_result"
    }
   ],
   "source": [
    "function closed_form_value_function(gm::GrowthModel, k::Float64)\n",
    "\n",
    "    # Pull out parameters\n",
    "    α, β = gm.α, gm.β\n",
    "\n",
    "    # Create coefficients\n",
    "    c1_1 = log(1 - α*β) / (1-β)\n",
    "    c1_2 = log(α*β)*α*β / ((1-α*β) * (1-β))\n",
    "    c1 = c1_1 + c1_2\n",
    "    c2 = α / (1 - α*β)\n",
    "\n",
    "    return c1 + c2*log(k)\n",
    "end"
   ]
  },
  {
   "cell_type": "code",
   "execution_count": 4,
   "metadata": {
    "collapsed": false
   },
   "outputs": [
    {
     "data": {
      "text/plain": [
       "-34.78560754549537"
      ]
     },
     "execution_count": 4,
     "metadata": {},
     "output_type": "execute_result"
    }
   ],
   "source": [
    "gm = GrowthModel()\n",
    "closed_form_value_function(gm, 1.0)"
   ]
  },
  {
   "cell_type": "code",
   "execution_count": 5,
   "metadata": {
    "collapsed": false
   },
   "outputs": [
    {
     "data": {
      "text/plain": [
       "solve (generic function with 1 method)"
      ]
     },
     "execution_count": 5,
     "metadata": {},
     "output_type": "execute_result"
    }
   ],
   "source": [
    "function solve(gm::GrowthModel)\n",
    "    # Pull out parameters\n",
    "    α, β, kgrid = gm.α, gm.β, gm.kgrid\n",
    "\n",
    "    # Allocate space for value function\n",
    "    V = zeros(length(kgrid))\n",
    "    V_old = copy(V)\n",
    "\n",
    "    # Iterate until convergence\n",
    "    tol, dist, it, maxiter = 1e-6, 10.0, 0, 500\n",
    "    while (tol < dist) && (it < maxiter)\n",
    "        # Create an interpolant over value function\n",
    "        VI = scale(interpolate(V, BSpline(Linear()), OnGrid()), kgrid)\n",
    "        # Iterate over all states\n",
    "        for (ik, k) in enumerate(kgrid)\n",
    "            # Production\n",
    "            y = k^α\n",
    "\n",
    "            # Objective function to minimize\n",
    "            obj(c) = -(log(c) + β*VI[y - c])\n",
    "            res = optimize(obj, 1e-8, y-1e-8, Brent())\n",
    "            cstar = Optim.minimizer(res)\n",
    "\n",
    "            # Update value\n",
    "            V[ik] = log(cstar) + β*VI[y - cstar]\n",
    "        end\n",
    "\n",
    "        # Check distance update iteration\n",
    "        it += 1\n",
    "        dist = maxabs(V - V_old)\n",
    "        copy!(V_old, V)\n",
    "        mod(it, 50) == 0 ? println(it, \"\\t\", dist) : nothing\n",
    "    end\n",
    "\n",
    "    return V\n",
    "end"
   ]
  },
  {
   "cell_type": "code",
   "execution_count": 6,
   "metadata": {
    "collapsed": false
   },
   "outputs": [
    {
     "name": "stdout",
     "output_type": "stream",
     "text": [
      "50\t0.15568823362229267\n",
      "100\t0.011979427352237337\n",
      "150\t0.0009217567936019577\n",
      "200\t7.092460660373945e-5\n",
      "250\t5.457322501456474e-6\n"
     ]
    },
    {
     "data": {
      "text/plain": [
       "150-element Array{Float64,1}:\n",
       " -42.6597\n",
       " -41.1821\n",
       " -40.411 \n",
       " -39.8787\n",
       " -39.4759\n",
       " -39.1512\n",
       " -38.8787\n",
       " -38.6439\n",
       " -38.4378\n",
       " -38.2538\n",
       " -38.0874\n",
       " -37.9357\n",
       " -37.7965\n",
       "   ⋮     \n",
       " -33.7391\n",
       " -33.7269\n",
       " -33.7149\n",
       " -33.7028\n",
       " -33.6909\n",
       " -33.6791\n",
       " -33.6673\n",
       " -33.6556\n",
       " -33.644 \n",
       " -33.6324\n",
       " -33.6211\n",
       " -33.6097"
      ]
     },
     "execution_count": 6,
     "metadata": {},
     "output_type": "execute_result"
    }
   ],
   "source": [
    "V_vfi = solve(gm)"
   ]
  },
  {
   "cell_type": "code",
   "execution_count": 7,
   "metadata": {
    "collapsed": false
   },
   "outputs": [
    {
     "data": {
      "text/plain": [
       "150-element Array{Float64,1}:\n",
       " -42.6114\n",
       " -41.1699\n",
       " -40.4014\n",
       " -39.8741\n",
       " -39.4723\n",
       " -39.1475\n",
       " -38.875 \n",
       " -38.6402\n",
       " -38.4339\n",
       " -38.25  \n",
       " -38.0841\n",
       " -37.9329\n",
       " -37.7941\n",
       "   ⋮     \n",
       " -33.7374\n",
       " -33.7252\n",
       " -33.713 \n",
       " -33.701 \n",
       " -33.6891\n",
       " -33.6772\n",
       " -33.6654\n",
       " -33.6537\n",
       " -33.6421\n",
       " -33.6306\n",
       " -33.6191\n",
       " -33.6077"
      ]
     },
     "execution_count": 7,
     "metadata": {},
     "output_type": "execute_result"
    }
   ],
   "source": [
    "V_cf = [closed_form_value_function(gm, k) for k in gm.kgrid]"
   ]
  },
  {
   "cell_type": "code",
   "execution_count": 8,
   "metadata": {
    "collapsed": false
   },
   "outputs": [
    {
     "data": {
      "text/plain": [
       "0.04826642703308437"
      ]
     },
     "execution_count": 8,
     "metadata": {},
     "output_type": "execute_result"
    }
   ],
   "source": [
    "maxabs(V_vfi - V_cf)"
   ]
  },
  {
   "cell_type": "code",
   "execution_count": null,
   "metadata": {
    "collapsed": true
   },
   "outputs": [],
   "source": []
  }
 ],
 "metadata": {
  "kernelspec": {
   "display_name": "Julia 0.4.5",
   "language": "julia",
   "name": "julia-0.4"
  },
  "language_info": {
   "file_extension": ".jl",
   "mimetype": "application/julia",
   "name": "julia",
   "version": "0.4.5"
  }
 },
 "nbformat": 4,
 "nbformat_minor": 0
}
