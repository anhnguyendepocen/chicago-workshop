{
 "cells": [
  {
   "cell_type": "markdown",
   "metadata": {},
   "source": [
    "# Practice Notebook\n",
    "\n",
    "This notebook will give you a chance to use some of the things that you've learned about in the workshop so far. In particular, this notebook will focus on using the packages we've discussed in some applications you might come across in your own work."
   ]
  },
  {
   "cell_type": "markdown",
   "metadata": {},
   "source": [
    "## Exercise 1: AR(1) Example\n",
    "\n",
    "In this exercise, you should finish developing the code necessary to simulate an AR(1) process. We have filled some of the code in for you to give you a start.\n",
    "\n",
    "The AR(1) process will take the following form\n",
    "\n",
    "\\begin{align*}\n",
    "  x_{t+1} &= p x_t + \\varepsilon_{t+1} \\\\\n",
    "  \\varepsilon_{t+1} &\\sim_{i.i.d.} \\phi\n",
    "\\end{align*}\n",
    "\n",
    "Notice that we are not requiring that $\\phi$ be a Normal distribution -- Our code should allow any distribution to fit into the process"
   ]
  },
  {
   "cell_type": "code",
   "execution_count": null,
   "metadata": {
    "collapsed": false
   },
   "outputs": [],
   "source": [
    "using Distributions\n",
    "using PlotlyJS"
   ]
  },
  {
   "cell_type": "code",
   "execution_count": null,
   "metadata": {
    "collapsed": false
   },
   "outputs": [],
   "source": [
    "\"\"\"\n",
    "We create a type that holds the two relevant elements of the autoregressive\n",
    "process: the coefficient and the distribution. We will use this type to create\n",
    "code that simulates the process\n",
    "\"\"\"\n",
    "type AR1\n",
    "    p::Float64\n",
    "    d::Distributions.Distribution\n",
    "end\n",
    "\n",
    "\"\"\"\n",
    "This function performs a single step of the autoregressive process by taking the\n",
    "process and its current value and returning the value for tomorrow\n",
    "\"\"\"\n",
    "one_step(ar1::AR1, x::Float64) = ar1.p*x + rand(ar1.d)\n",
    "\n",
    "\n",
    "function simulate(ar1::AR1, T=25, x0=0.0)\n",
    "    # Unpack the coefficient and distribution\n",
    "    p, d = ar1.p, ar1.d\n",
    "\n",
    "    # Allocate space that we will fill during simulation\n",
    "    # and set first element to initial condition\n",
    "    x = Array(Float64, T)\n",
    "    x[1] = x0\n",
    "\n",
    "    # TODO: write code to simulate\n",
    "\n",
    "    # Return the simulated values\n",
    "    return x\n",
    "end"
   ]
  },
  {
   "cell_type": "markdown",
   "metadata": {},
   "source": [
    "Now using your new simulate function, generate two time series with the same autocorrelation coefficient (0.90 for example) but different shock distributions. If you can't decide what distributions to use, try `Normal(0.0, 0.58)` and `Uniform(-1.0, 1.0)`. Plot these two time series."
   ]
  },
  {
   "cell_type": "code",
   "execution_count": null,
   "metadata": {
    "collapsed": false
   },
   "outputs": [],
   "source": [
    "# Insert code here"
   ]
  },
  {
   "cell_type": "markdown",
   "metadata": {},
   "source": [
    "## Exercise 2: Evaluating Likelihoods\n",
    "\n",
    "Using the code that you have written above, write a function that takes a coefficient parameter and distribution and evaluates the likelihood of a simulated path of your process -- Make sure to take advantage of the functions (like `pdf`) that `Distributions.jl` exposes for you."
   ]
  },
  {
   "cell_type": "code",
   "execution_count": null,
   "metadata": {
    "collapsed": true
   },
   "outputs": [],
   "source": [
    "# Insert code below"
   ]
  },
  {
   "cell_type": "markdown",
   "metadata": {},
   "source": [
    "## Exercise 3: Maximum Likelihood\n",
    "\n",
    "Now that you can evaluate likelihood functions, you should be able to perform maximum likelihood. Choose a particular distribution and maximize over the autocorrelation coefficient and the parameters that describe the distribution"
   ]
  },
  {
   "cell_type": "code",
   "execution_count": 1,
   "metadata": {
    "collapsed": true
   },
   "outputs": [],
   "source": [
    "# Insert code below"
   ]
  },
  {
   "cell_type": "markdown",
   "metadata": {
    "collapsed": true
   },
   "source": [
    "## Exercise 4: Cake eating problem\n",
    "\n",
    "In this problem, we will solve the canonical finite horizon \"cake eating problem\" as an example of dynamic programming. In particular, consider an agent who has a cake of size $X$. The agent lives for $T$ periods, discounts the future at rate $\\beta$, and values period by period consumption according to $\\sqrt(c)$.\n",
    "\n",
    "You could write his dynamic programming problem by\n",
    "\n",
    "\\begin{align*}\n",
    "  V_t(x) &= \\max_{c} \\sqrt(c) + \\beta V_{t+1}(x - c)\n",
    "\\end{align*}\n",
    "\n",
    "with a terminal condition of\n",
    "\n",
    "\\begin{align*}\n",
    "  V_{T+1}(x) = 0\n",
    "\\end{align*}"
   ]
  },
  {
   "cell_type": "code",
   "execution_count": null,
   "metadata": {
    "collapsed": true
   },
   "outputs": [],
   "source": [
    "using Interpolations\n",
    "using Optim"
   ]
  },
  {
   "cell_type": "code",
   "execution_count": null,
   "metadata": {
    "collapsed": false
   },
   "outputs": [],
   "source": [
    "type CakeProblem\n",
    "    # Parameters of cake eating problem\n",
    "    β::Float64\n",
    "    X::Float64\n",
    "    T::Int\n",
    "\n",
    "    # Grid to solve problem on\n",
    "    xgrid::LinSpace\n",
    "\n",
    "    # Value and policy grid\n",
    "    # (2 dimensions -- x down columsn and T across rows)\n",
    "    vgrid::Array{Float64, 2}\n",
    "    cgrid::Array{Float64, 2}\n",
    "end\n",
    "\n",
    "function CakeProblem(β=0.95, X=1.0, T=3, xmin=0.0, xmax=X, nx=250)\n",
    "    # Allocate space for grids\n",
    "    vgrid = Array(Float64, nx, T)\n",
    "    cgrid = Array(Float64, nx, T)\n",
    "\n",
    "    # Build grid of x values we will have in each period\n",
    "    xgrid = linspace(xmin, xmax, nx)\n",
    "\n",
    "    return CakeProblem(β, X, T, xgrid, vgrid, cgrid)\n",
    "end"
   ]
  },
  {
   "cell_type": "code",
   "execution_count": null,
   "metadata": {
    "collapsed": false
   },
   "outputs": [],
   "source": [
    "\"\"\"\n",
    "This function generates a solution to the cake problem that is described above. It\n",
    "stores the solutions inside of the arrays that were allocated inside the CakeProblem\n",
    "type.\n",
    "\"\"\"\n",
    "function solve!(cp::CakeProblem)\n",
    "    # Pull out parameters of cake problem\n",
    "    β, X, T = cp.β, cp.X, cp.T\n",
    "\n",
    "    # At period T, we will eat all remaining cake\n",
    "    cp.cgrid[:, T] = cp.xgrid\n",
    "    cp.vgrid[:, T] = sqrt(cp.cgrid[:, T])\n",
    "\n",
    "    # Use backwards recursion to get policy and value function\n",
    "    for t=T-1:-1:1\n",
    "        println(t)\n",
    "        # TODO: Create current value interpolator (use linear)\n",
    "\n",
    "        # Iterate over all values of x\n",
    "        for (ix, x) in enumerate(cp.xgrid)\n",
    "            # If we have no good left then we can't eat anything\n",
    "            if x < 1e-15\n",
    "                cstar = 0.0\n",
    "            else\n",
    "                # TODO: Write a short function that we can minimize to get optimal value\n",
    "\n",
    "                # TODO: Formulate optimization problem to get policy\n",
    "\n",
    "            end\n",
    "\n",
    "            # Fill policy and value today\n",
    "            cp.cgrid[ix, t] = 0.0  # TODO: Fill this with correct value\n",
    "            cp.vgrid[ix, t] = 0.0  # TODO: Fill this with correct value\n",
    "        end\n",
    "    end\n",
    "\n",
    "    return nothing\n",
    "end"
   ]
  },
  {
   "cell_type": "markdown",
   "metadata": {},
   "source": [
    "Using your solution, plot the policy function for each period"
   ]
  },
  {
   "cell_type": "code",
   "execution_count": null,
   "metadata": {
    "collapsed": true
   },
   "outputs": [],
   "source": []
  }
 ],
 "metadata": {
  "kernelspec": {
   "display_name": "Julia 0.4.5",
   "language": "julia",
   "name": "julia-0.4"
  },
  "language_info": {
   "file_extension": ".jl",
   "mimetype": "application/julia",
   "name": "julia",
   "version": "0.4.5"
  }
 },
 "nbformat": 4,
 "nbformat_minor": 0
}
