{
 "cells": [
  {
   "cell_type": "markdown",
   "metadata": {
    "slideshow": {
     "slide_type": "slide"
    }
   },
   "source": [
    "## Workshop on Scientific Computing in Economics with Python and Julia\n",
    "\n",
    "## Monday Afternoon Session: Julia for Economists\n",
    "\n",
    "**Chase Coleman**"
   ]
  },
  {
   "cell_type": "markdown",
   "metadata": {
    "slideshow": {
     "slide_type": "subslide"
    }
   },
   "source": [
    "## What makes julia the right tool for what we do?\n",
    "\n",
    "* Fast\n",
    "* Flexible\n",
    "* Intuitive\n",
    "* Quickly growing package ecosystem (We don't want to spend too much time re-inventing the wheel)"
   ]
  },
  {
   "cell_type": "markdown",
   "metadata": {
    "slideshow": {
     "slide_type": "slide"
    }
   },
   "source": [
    "## Distributions.jl\n",
    "\n",
    "A Julia package for probability distributions and associated functions. Particularly, Distributions implements:\n",
    "\n",
    "* Moments (e.g mean, variance, skewness, and kurtosis), entropy, and other properties\n",
    "* Probability density/mass functions (pdf) and their logarithm (logpdf)\n",
    "* Moment generating functions and characteristic functions\n",
    "* Sampling from population or from a distribution\n",
    "* Maximum likelihood estimation\n",
    "\n",
    "In particular, it provides a very natural (and consistent!) way to work with about 70 different distributions."
   ]
  },
  {
   "cell_type": "code",
   "execution_count": 1,
   "metadata": {
    "collapsed": false
   },
   "outputs": [],
   "source": [
    "using Distributions"
   ]
  },
  {
   "cell_type": "markdown",
   "metadata": {},
   "source": [
    "We will create a standard normal distribution and do a variety of things with it below."
   ]
  },
  {
   "cell_type": "code",
   "execution_count": 2,
   "metadata": {
    "collapsed": false
   },
   "outputs": [
    {
     "data": {
      "text/plain": [
       "10-element Array{Float64,1}:\n",
       " -0.273019  \n",
       "  1.588     \n",
       "  0.298222  \n",
       " -0.669419  \n",
       "  0.749639  \n",
       "  0.260173  \n",
       "  2.05004   \n",
       "  0.00576386\n",
       "  0.128738  \n",
       "  0.330979  "
      ]
     },
     "execution_count": 2,
     "metadata": {},
     "output_type": "execute_result"
    }
   ],
   "source": [
    "# Create the standard normal distribution\n",
    "nrv = Normal(0.0, 1.0)\n",
    "\n",
    "# Get the 1st and 99th percentile\n",
    "nrv_quantiles = quantile(nrv, [0.01, 0.99])\n",
    "\n",
    "# Get the value of pdf (and cdf) of the 1st and 99th percentile\n",
    "nrv_pdf = pdf(nrv, nrv_quantiles)\n",
    "nrv_cdf = cdf(nrv, nrv_quantiles)\n",
    "\n",
    "# Sample from the distribution (samples 1 draw from distribution unless specified)\n",
    "rand(nrv)\n",
    "rand(nrv, 10)"
   ]
  },
  {
   "cell_type": "code",
   "execution_count": 3,
   "metadata": {
    "collapsed": false
   },
   "outputs": [
    {
     "data": {
      "text/plain": [
       "Distributions.Normal{Float64}"
      ]
     },
     "execution_count": 3,
     "metadata": {},
     "output_type": "execute_result"
    }
   ],
   "source": [
    "typeof(nrv)"
   ]
  },
  {
   "cell_type": "markdown",
   "metadata": {},
   "source": [
    "Notice that we can use almost exactly the same code -- We only change the distribution name -- to get these same items from the inverse gamma distribution"
   ]
  },
  {
   "cell_type": "code",
   "execution_count": 4,
   "metadata": {
    "collapsed": false
   },
   "outputs": [
    {
     "data": {
      "text/plain": [
       "10-element Array{Float64,1}:\n",
       " 0.70084 \n",
       " 1.07238 \n",
       " 0.738556\n",
       " 0.594477\n",
       " 0.44743 \n",
       " 0.483876\n",
       " 0.413827\n",
       " 0.26692 \n",
       " 0.670931\n",
       " 0.417149"
      ]
     },
     "execution_count": 4,
     "metadata": {},
     "output_type": "execute_result"
    }
   ],
   "source": [
    "ivg = InverseGamma(7.0, 4.0)\n",
    "\n",
    "# Get the 1st and 99th percentile\n",
    "ivg_quantiles = quantile(ivg, [0.01, 0.99])\n",
    "\n",
    "# Get the value of pdf (and cdf) of the 1st and 99th percentile\n",
    "ivg_pdf = pdf(ivg, ivg_quantiles)\n",
    "ivg_cdf = cdf(ivg, ivg_quantiles)\n",
    "\n",
    "# Sample from the distribution (samples 1 draw from distribution unless specified)\n",
    "rand(ivg)\n",
    "rand(ivg, 10)"
   ]
  },
  {
   "cell_type": "code",
   "execution_count": 5,
   "metadata": {
    "collapsed": false
   },
   "outputs": [
    {
     "data": {
      "text/plain": [
       "4x2 Array{Float64,2}:\n",
       " 0.0   0.666667\n",
       " 1.0   0.298142\n",
       " 0.0   2.23607 \n",
       " 0.0  12.0     "
      ]
     },
     "execution_count": 5,
     "metadata": {},
     "output_type": "execute_result"
    }
   ],
   "source": [
    "[mean(nrv) mean(ivg)\n",
    " std(nrv) std(ivg)\n",
    " skewness(nrv) skewness(ivg)\n",
    " kurtosis(nrv) kurtosis(ivg)]"
   ]
  },
  {
   "cell_type": "markdown",
   "metadata": {
    "slideshow": {
     "slide_type": "slide"
    }
   },
   "source": [
    "## Interpolations.jl\n",
    "\n",
    "This package implements a variety of interpolation schemes for the Julia langauge. It has the goals of ease-of-use, broad algorithmic support, and exceptional performance.\n",
    "\n",
    "This package is still relatively new. Currently its support is best for B-splines and also supports irregular grids."
   ]
  },
  {
   "cell_type": "code",
   "execution_count": 6,
   "metadata": {
    "collapsed": false
   },
   "outputs": [],
   "source": [
    "using Interpolations"
   ]
  },
  {
   "cell_type": "markdown",
   "metadata": {},
   "source": [
    "The first thing we need to do is to create an interpolator -- By default this will be defined on [1, Npts]. We need to specify several things:\n",
    "\n",
    "* Data\n",
    "* Type of interpolation\n",
    "  - Order of interpolation\n",
    "  - Boundary Conditoins\n",
    "* Where data is located"
   ]
  },
  {
   "cell_type": "code",
   "execution_count": 7,
   "metadata": {
    "collapsed": false
   },
   "outputs": [],
   "source": [
    "lb, ub = 0.1, 10.0\n",
    "x = linspace(lb, ub, 25)\n",
    "u = log(x)\n",
    "\n",
    "# Create a BSpline using linear interpolation with data on the grid\n",
    "lin_itp = interpolate(u, BSpline(Linear()), OnGrid())\n",
    "qua_itp = interpolate(u, BSpline(Quadratic(Natural())), OnGrid());"
   ]
  },
  {
   "cell_type": "markdown",
   "metadata": {},
   "source": [
    "We can evaluate the interpolator by using \"indexing\""
   ]
  },
  {
   "cell_type": "code",
   "execution_count": 8,
   "metadata": {
    "collapsed": false
   },
   "outputs": [
    {
     "name": "stdout",
     "output_type": "stream",
     "text": [
      "Log(x) is: -2.3026\n",
      "Interpolated value at x is: -3.7733\n"
     ]
    }
   ],
   "source": [
    "println(\"Log(x) is: \", round(log(lb), 4))\n",
    "println(\"Interpolated value at x is: \", round(lin_itp[lb], 4))"
   ]
  },
  {
   "cell_type": "markdown",
   "metadata": {},
   "source": [
    "What happened??? This is on a grid point, why doesn't it match. This is what I meant when I said it would be defined by default on [1, Npts], we really need to give it the index of the point."
   ]
  },
  {
   "cell_type": "code",
   "execution_count": 9,
   "metadata": {
    "collapsed": false
   },
   "outputs": [
    {
     "name": "stdout",
     "output_type": "stream",
     "text": [
      "Log(x) is: -2.3026\n",
      "Interpolated value at x is: -2.3026\n"
     ]
    }
   ],
   "source": [
    "println(\"Log(x) is: \", round(log(x[1]), 4))\n",
    "println(\"Interpolated value at x is: \", round(lin_itp[1], 4))"
   ]
  },
  {
   "cell_type": "markdown",
   "metadata": {},
   "source": [
    "It could get annoying to always be working in indexes for us, but there is a \"scaling\" feature that allows us to move the domain to where we would like to work."
   ]
  },
  {
   "cell_type": "code",
   "execution_count": 10,
   "metadata": {
    "collapsed": false
   },
   "outputs": [],
   "source": [
    "lin_itp_s = scale(lin_itp, x)\n",
    "qua_itp_s = scale(qua_itp, x);"
   ]
  },
  {
   "cell_type": "code",
   "execution_count": 11,
   "metadata": {
    "collapsed": false
   },
   "outputs": [
    {
     "name": "stdout",
     "output_type": "stream",
     "text": [
      "Log(x) is: -2.3026\n",
      "Interpolated value at x is: -2.3026\n"
     ]
    }
   ],
   "source": [
    "println(\"Log(x) is: \", round(log(lb), 4))\n",
    "println(\"Interpolated value at x is: \", round(lin_itp_s[lb], 4))"
   ]
  },
  {
   "cell_type": "markdown",
   "metadata": {},
   "source": [
    "Extrapolation is by default set to linearly extrapolate outside of the bounds, but you can ask it to do\n",
    "\n",
    "* `Throw` : Throw an error if asked to extrapolate\n",
    "* `Flat` : Evaluate anything outside grid to the closest grid point\n",
    "* `Linear` : Linear extrapolate outside of bounds"
   ]
  },
  {
   "cell_type": "code",
   "execution_count": 12,
   "metadata": {
    "collapsed": false
   },
   "outputs": [
    {
     "name": "stdout",
     "output_type": "stream",
     "text": [
      "-2.104508665718352\n"
     ]
    },
    {
     "ename": "LoadError",
     "evalue": "LoadError: BoundsError\nwhile loading In[12], in expression starting on line 2",
     "output_type": "error",
     "traceback": [
      "LoadError: BoundsError\nwhile loading In[12], in expression starting on line 2",
      ""
     ]
    }
   ],
   "source": [
    "println(extrapolate(lin_itp_s, Interpolations.Throw())[lb + 0.05])\n",
    "println(extrapolate(lin_itp_s, Interpolations.Throw())[lb - 0.05])"
   ]
  },
  {
   "cell_type": "markdown",
   "metadata": {},
   "source": [
    "We can also evaluate the derivatives of our splines"
   ]
  },
  {
   "cell_type": "code",
   "execution_count": 13,
   "metadata": {
    "collapsed": false
   },
   "outputs": [
    {
     "data": {
      "text/plain": [
       "1-element Array{Float64,1}:\n",
       " 0.950788"
      ]
     },
     "execution_count": 13,
     "metadata": {},
     "output_type": "execute_result"
    }
   ],
   "source": [
    "gradient(qua_itp_s, 1.0)"
   ]
  },
  {
   "cell_type": "markdown",
   "metadata": {},
   "source": [
    "Best of all, `Interpolations.jl` is _very_ fast."
   ]
  },
  {
   "cell_type": "code",
   "execution_count": 14,
   "metadata": {
    "collapsed": false
   },
   "outputs": [
    {
     "name": "stdout",
     "output_type": "stream",
     "text": [
      "  0.180189 seconds (4.71 k allocations: 76.516 MB, 1.79% gc time)\n"
     ]
    }
   ],
   "source": [
    "n = 10_000_000\n",
    "fine_grid = linspace(lb, ub, n)\n",
    "\n",
    "function fill_values(itp::ScaledInterpolation, x::LinSpace)\n",
    "\n",
    "    # Get number of values and allocate space\n",
    "    n = length(x)\n",
    "    interp_values = Array(Float64, n)\n",
    "\n",
    "    # Fill values\n",
    "    for i=1:n\n",
    "        interp_values[i] = itp[x[i]]\n",
    "    end\n",
    "\n",
    "    return interp_values\n",
    "end\n",
    "\n",
    "@time fill_values(lin_itp_s, fine_grid);"
   ]
  },
  {
   "cell_type": "markdown",
   "metadata": {
    "slideshow": {
     "slide_type": "slide"
    }
   },
   "source": [
    "## NLsolve.jl\n",
    "\n",
    "The NLsolve package solves systems of nonlinear equations. Formally, if $f$ is a multivariate function, then this package looks for some vector x that satisfies $f(x)=0$."
   ]
  },
  {
   "cell_type": "code",
   "execution_count": 15,
   "metadata": {
    "collapsed": false
   },
   "outputs": [],
   "source": [
    "using NLsolve"
   ]
  },
  {
   "cell_type": "markdown",
   "metadata": {},
   "source": [
    "Imagine solving the following system of non-linear equations:\n",
    "\n",
    "\\begin{align*}\n",
    "  x^2 - sin(y) &= 0 \\\\\n",
    "  y^2 - cos(x) &= 0\n",
    "\\end{align*}"
   ]
  },
  {
   "cell_type": "code",
   "execution_count": 16,
   "metadata": {
    "collapsed": false
   },
   "outputs": [
    {
     "data": {
      "text/plain": [
       "Results of Nonlinear Solver Algorithm\n",
       " * Algorithm: Trust-region with dogleg and autoscaling\n",
       " * Starting Point: [0.0,0.0]\n",
       " * Zero: [0.0,0.0]\n",
       " * Inf-norm of residuals: 1.000000\n",
       " * Iterations: 1000\n",
       " * Convergence: false\n",
       "   * |x - x'| < 0.0e+00: false\n",
       "   * |f(x)| < 1.0e-10: false\n",
       " * Function Calls (f): 1001\n",
       " * Jacobian Calls (df/dx): 1"
      ]
     },
     "execution_count": 16,
     "metadata": {},
     "output_type": "execute_result"
    }
   ],
   "source": [
    "function f!(xy::Vector, fxy::Vector)\n",
    "    # Pull out arguments\n",
    "    x, y = xy\n",
    "\n",
    "    # Fill fxy\n",
    "    fxy[1] = x^2 - sin(y)\n",
    "    fxy[2] = y^2 - cos(x)\n",
    "end\n",
    "\n",
    "function g!(xy::Vector, jacxy::Matrix)\n",
    "    x, y = xy\n",
    "    # Fill with derivatives of first function\n",
    "    jacxy[1, 1] = 2*x\n",
    "    jacxy[1, 2] = -cos(y)\n",
    "\n",
    "    # Fill off-diagonal\n",
    "    jacxy[2, 1] = sin(x)\n",
    "    jacxy[2, 2] = 2*y\n",
    "end\n",
    "\n",
    "res = nlsolve(f!, g!, [0.0, 0.0], ftol=1e-10)"
   ]
  },
  {
   "cell_type": "code",
   "execution_count": 17,
   "metadata": {
    "collapsed": false
   },
   "outputs": [
    {
     "data": {
      "text/plain": [
       "2-element Array{Float64,1}:\n",
       "  0.0\n",
       " -1.0"
      ]
     },
     "execution_count": 17,
     "metadata": {},
     "output_type": "execute_result"
    }
   ],
   "source": [
    "_fxy = rand(2)\n",
    "f!(res.zero, _fxy)\n",
    "_fxy"
   ]
  },
  {
   "cell_type": "markdown",
   "metadata": {
    "slideshow": {
     "slide_type": "slide"
    }
   },
   "source": [
    "## Optim.jl\n",
    "\n",
    "For many optimization problems `Optim.jl` will do very well -- However, for more complicated problems, we suggest you look into `NLopt.jl` which is based on the stable (and powerful) `NLopt` C library."
   ]
  },
  {
   "cell_type": "code",
   "execution_count": 18,
   "metadata": {
    "collapsed": true
   },
   "outputs": [],
   "source": [
    "using Optim"
   ]
  },
  {
   "cell_type": "markdown",
   "metadata": {},
   "source": [
    "Consider the following optimization problem\n",
    "\n",
    "\\begin{align*}\n",
    "  V(x) &= \\max_{c_1, c_2, c_3} v(c_1) + \\beta v(c_2) + \\beta^2 v(c_3) \\\\\n",
    "  \\text{subject to } & c_1 + c_2 + c_3 = x\n",
    "\\end{align*}\n",
    "\n",
    "We will transform this to an unconstrained problem (though this is not necessary) to simplify things. In particular, we will substitute our constraint to get\n",
    "\n",
    "$$c_3 = x - c_1 - c_2$$\n",
    "\n",
    "`Optim` does minimization, so in order to do the maximization we will minimize the negative of our objective function."
   ]
  },
  {
   "cell_type": "code",
   "execution_count": 19,
   "metadata": {
    "collapsed": false
   },
   "outputs": [
    {
     "data": {
      "text/plain": [
       "objective (generic function with 1 method)"
      ]
     },
     "execution_count": 19,
     "metadata": {},
     "output_type": "execute_result"
    }
   ],
   "source": [
    "β, x = 0.9, 1.0\n",
    "v(c) = -exp(-c)\n",
    "vp(c) = exp(-c)\n",
    "\n",
    "function objective(β, x, cvec)\n",
    "    # Unpack input\n",
    "    c1, c2 = cvec\n",
    "    c3 = x - c1 - c2\n",
    "\n",
    "    # Evaluate objective function\n",
    "    V = v(c1) + β*v(c2) + β*β*v(c3)\n",
    "\n",
    "    # Negative because we will be minimizing\n",
    "    return -V\n",
    "end"
   ]
  },
  {
   "cell_type": "code",
   "execution_count": 20,
   "metadata": {
    "collapsed": false
   },
   "outputs": [
    {
     "data": {
      "text/plain": [
       "Results of Optimization Algorithm\n",
       " * Algorithm: Nelder-Mead\n",
       " * Starting Point: [0.0,0.0]\n",
       " * Minimizer: [0.4387055184525176,0.3333012628222983]\n",
       " * Minimum: 1.934635\n",
       " * Iterations: 25\n",
       " * Convergence: true\n",
       "   * |x - x'| < NaN: false\n",
       "   * |f(x) - f(x')| / |f(x)| < 1.0e-08: true\n",
       "   * |g(x)| < NaN: false\n",
       "   * Reached Maximum Number of Iterations: false\n",
       " * Objective Function Calls: 52\n",
       " * Gradient Calls: 0"
      ]
     },
     "execution_count": 20,
     "metadata": {},
     "output_type": "execute_result"
    }
   ],
   "source": [
    "f(cvec) = objective(β, x, cvec)\n",
    "\n",
    "res_nd = optimize(f, [0.0, 0.0], NelderMead())"
   ]
  },
  {
   "cell_type": "code",
   "execution_count": 21,
   "metadata": {
    "collapsed": false
   },
   "outputs": [
    {
     "name": "stdout",
     "output_type": "stream",
     "text": [
      "[0.4387055184525176,0.3333012628222983]\n",
      "-1.9346345390589765\n"
     ]
    }
   ],
   "source": [
    "println(Optim.minimizer(res_nd))\n",
    "println(-Optim.minimum(res_nd))"
   ]
  },
  {
   "cell_type": "markdown",
   "metadata": {},
   "source": [
    "But we have more information, in this case we could also supply a gradient."
   ]
  },
  {
   "cell_type": "code",
   "execution_count": 22,
   "metadata": {
    "collapsed": false
   },
   "outputs": [
    {
     "data": {
      "text/plain": [
       "g! (generic function with 2 methods)"
      ]
     },
     "execution_count": 22,
     "metadata": {},
     "output_type": "execute_result"
    }
   ],
   "source": [
    "function grad!(β, x, cvec, storage::Vector)\n",
    "    # Unpack input\n",
    "    c1, c2 = cvec\n",
    "    c3 = x - c1 - c2\n",
    "\n",
    "    # Evaluate objective function (Notice - because we are minimizing)\n",
    "    storage[1] = -(vp(c1) - β*β*vp(c3))\n",
    "    storage[2] = -(β*vp(c2) - β*β*vp(c3))\n",
    "end\n",
    "\n",
    "g!(cvec::Vector, storage::Vector) = grad!(β, x, cvec, storage)"
   ]
  },
  {
   "cell_type": "code",
   "execution_count": 23,
   "metadata": {
    "collapsed": false
   },
   "outputs": [
    {
     "data": {
      "text/plain": [
       "Results of Optimization Algorithm\n",
       " * Algorithm: Gradient Descent\n",
       " * Starting Point: [0.0,0.0]\n",
       " * Minimizer: [0.4386734751521874,0.33335611854109265]\n",
       " * Minimum: 1.934635\n",
       " * Iterations: 6\n",
       " * Convergence: true\n",
       "   * |x - x'| < 1.0e-32: false\n",
       "   * |f(x) - f(x')| / |f(x)| < 1.0e-08: true\n",
       "   * |g(x)| < 1.0e-08: false\n",
       "   * Reached Maximum Number of Iterations: false\n",
       " * Objective Function Calls: 22\n",
       " * Gradient Calls: 22"
      ]
     },
     "execution_count": 23,
     "metadata": {},
     "output_type": "execute_result"
    }
   ],
   "source": [
    "options = OptimizationOptions(ftol=-1.0, grtol=1e-12)\n",
    "res_d = optimize(f, g!, [0.0, 0.0], method=GradientDescent())"
   ]
  },
  {
   "cell_type": "code",
   "execution_count": 24,
   "metadata": {
    "collapsed": false
   },
   "outputs": [
    {
     "data": {
      "text/plain": [
       "2-element Array{Float64,1}:\n",
       " -3.20433e-5\n",
       "  5.48557e-5"
      ]
     },
     "execution_count": 24,
     "metadata": {},
     "output_type": "execute_result"
    }
   ],
   "source": [
    "Optim.minimizer(res_d) - Optim.minimizer(res_nd)"
   ]
  },
  {
   "cell_type": "code",
   "execution_count": 25,
   "metadata": {
    "collapsed": false
   },
   "outputs": [
    {
     "data": {
      "text/plain": [
       "-2.0662938027271593e-10"
      ]
     },
     "execution_count": 25,
     "metadata": {},
     "output_type": "execute_result"
    }
   ],
   "source": [
    "# If this is less than 0 then derivative optimization did better\n",
    "Optim.minimum(res_d) - Optim.minimum(res_nd)"
   ]
  },
  {
   "cell_type": "markdown",
   "metadata": {
    "slideshow": {
     "slide_type": "slide"
    }
   },
   "source": [
    "## QuantEcon.jl\n",
    "\n",
    "`QuantEcon.jl` is a set of general tools that are being developed to help economists do research in Julia. There is already strong support for linear quadratic problems, discrete dynamic programming, and Markov chains.\n",
    "\n",
    "Will showcase material on Markov chains, but suggest seeing the [lecture site](http://quant-econ.net/) and [notebook gallery](http://quantecon.org/notebooks.html) for examples of how to use other tools within QuantEcon."
   ]
  },
  {
   "cell_type": "code",
   "execution_count": 26,
   "metadata": {
    "collapsed": false
   },
   "outputs": [],
   "source": [
    "using QuantEcon"
   ]
  },
  {
   "cell_type": "code",
   "execution_count": 27,
   "metadata": {
    "collapsed": false
   },
   "outputs": [
    {
     "data": {
      "text/plain": [
       "Discrete Markov Chain\n",
       "stochastic matrix of type Array{Float64,2}:\n",
       "2x2 Array{Float64,2}:\n",
       " 0.9  0.1\n",
       " 0.1  0.9\n"
      ]
     },
     "execution_count": 27,
     "metadata": {},
     "output_type": "execute_result"
    }
   ],
   "source": [
    "# Define a transition matrix\n",
    "Π = [0.9 0.1\n",
    "     0.1 0.9]\n",
    "\n",
    "# Define the state values\n",
    "state_values = [0.5, 1.5]\n",
    "\n",
    "# Create the Markov chain\n",
    "mc = MarkovChain(Π, state_values)"
   ]
  },
  {
   "cell_type": "markdown",
   "metadata": {},
   "source": [
    "Additionally, one can create Markov chains using either the Rouwenhorst or Tauchen methods for approximating an AR(1)."
   ]
  },
  {
   "cell_type": "code",
   "execution_count": 28,
   "metadata": {
    "collapsed": false
   },
   "outputs": [
    {
     "data": {
      "text/plain": [
       "Discrete Markov Chain\n",
       "stochastic matrix of type Array{Float64,2}:\n",
       "5x5 Array{Float64,2}:\n",
       " 0.814506    0.171475  0.0135375  0.000475  6.25e-6   \n",
       " 0.0428688   0.821275  0.128963   0.006775  0.00011875\n",
       " 0.00225625  0.085975  0.823537   0.085975  0.00225625\n",
       " 0.00011875  0.006775  0.128963   0.821275  0.0428688 \n",
       " 6.25e-6     0.000475  0.0135375  0.171475  0.814506  \n"
      ]
     },
     "execution_count": 28,
     "metadata": {},
     "output_type": "execute_result"
    }
   ],
   "source": [
    "mc_r = rouwenhorst(5, 0.9, 0.1)"
   ]
  },
  {
   "cell_type": "markdown",
   "metadata": {},
   "source": [
    "Once we have a Markov chain, we can:\n",
    "\n",
    "* simulate (indices of state or values)\n",
    "* find stationary distributions\n",
    "* find periods (and whether it is periodic)\n",
    "* etc..."
   ]
  },
  {
   "cell_type": "code",
   "execution_count": 29,
   "metadata": {
    "collapsed": false
   },
   "outputs": [
    {
     "data": {
      "text/plain": [
       "10x1 Array{Int64,2}:\n",
       " 1\n",
       " 1\n",
       " 2\n",
       " 1\n",
       " 1\n",
       " 1\n",
       " 1\n",
       " 1\n",
       " 1\n",
       " 1"
      ]
     },
     "execution_count": 29,
     "metadata": {},
     "output_type": "execute_result"
    }
   ],
   "source": [
    "simulate(mc, 10)"
   ]
  },
  {
   "cell_type": "code",
   "execution_count": 30,
   "metadata": {
    "collapsed": false
   },
   "outputs": [
    {
     "data": {
      "text/plain": [
       "10x1 Array{Float64,2}:\n",
       " 0.5\n",
       " 0.5\n",
       " 0.5\n",
       " 0.5\n",
       " 0.5\n",
       " 0.5\n",
       " 0.5\n",
       " 0.5\n",
       " 0.5\n",
       " 0.5"
      ]
     },
     "execution_count": 30,
     "metadata": {},
     "output_type": "execute_result"
    }
   ],
   "source": [
    "simulate_values(mc, 10)"
   ]
  },
  {
   "cell_type": "markdown",
   "metadata": {},
   "source": [
    "Get stationary distributions"
   ]
  },
  {
   "cell_type": "code",
   "execution_count": 31,
   "metadata": {
    "collapsed": false
   },
   "outputs": [
    {
     "data": {
      "text/plain": [
       "2-element Array{Float64,1}:\n",
       " 0.5\n",
       " 0.5"
      ]
     },
     "execution_count": 31,
     "metadata": {},
     "output_type": "execute_result"
    }
   ],
   "source": [
    "mc_compute_stationary(mc)"
   ]
  },
  {
   "cell_type": "markdown",
   "metadata": {
    "slideshow": {
     "slide_type": "slide"
    }
   },
   "source": [
    "## Motivating Examples"
   ]
  },
  {
   "cell_type": "markdown",
   "metadata": {},
   "source": [
    "### Simple Growth Model\n",
    "\n",
    "[Notebook link](growth.ipynb)"
   ]
  },
  {
   "cell_type": "code",
   "execution_count": null,
   "metadata": {
    "collapsed": true
   },
   "outputs": [],
   "source": []
  }
 ],
 "metadata": {
  "kernelspec": {
   "display_name": "Julia 0.4.5",
   "language": "julia",
   "name": "julia-0.4"
  },
  "language_info": {
   "file_extension": ".jl",
   "mimetype": "application/julia",
   "name": "julia",
   "version": "0.4.5"
  }
 },
 "nbformat": 4,
 "nbformat_minor": 0
}
